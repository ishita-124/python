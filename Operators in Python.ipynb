{
 "cells": [
  {
   "cell_type": "markdown",
   "metadata": {},
   "source": [
    "1. Arithmatic Operators ( +, -, *,/ %, //, **)\n",
    "2. Comparison Operators ( <, >, <= ,>=, == !=)\n",
    "3. Logical Operators ( and , or, not)\n",
    "4. Assigment Operators (=)\n",
    "5. Memebership Operators(in, not in)\n",
    "6. Identity Operators (is, is not)\n",
    "7. Binary Operators(left shift, right shift etc)\n"
   ]
  },
  {
   "cell_type": "markdown",
   "metadata": {},
   "source": [
    "1. Arithmentic Operator \n",
    "<p>\n",
    "a) addition + <br>\n",
    "b) subraction - <br>\n",
    "c) multiplication * <br>\n",
    "d) absolute division / <br>\n",
    "e) modulus operator % <br>\n",
    "f) inter division or floor division // <br>\n",
    "g) power or exponent ** <br>\n",
    "</p>\n"
   ]
  },
  {
   "cell_type": "code",
   "execution_count": 2,
   "metadata": {},
   "outputs": [
    {
     "name": "stdout",
     "output_type": "stream",
     "text": [
      "15\n"
     ]
    }
   ],
   "source": [
    "# Addition (Binary Operator)\n",
    "x=5\n",
    "y=10\n",
    "print(x+y)"
   ]
  },
  {
   "cell_type": "code",
   "execution_count": 3,
   "metadata": {},
   "outputs": [
    {
     "name": "stdout",
     "output_type": "stream",
     "text": [
      "helloworld\n"
     ]
    }
   ],
   "source": [
    "s1 = \"hello\"\n",
    "s2 = \"world\"\n",
    "print(s1+s2)"
   ]
  },
  {
   "cell_type": "code",
   "execution_count": 4,
   "metadata": {},
   "outputs": [
    {
     "name": "stdout",
     "output_type": "stream",
     "text": [
      "[1, 2, 3, 'hello', 'hi']\n",
      "[3, 14, 'something', 'bye bye']\n",
      "[1, 2, 3, 'hello', 'hi', 3, 14, 'something', 'bye bye']\n"
     ]
    }
   ],
   "source": [
    "l1 = [1,2,3,'hello','hi']\n",
    "l2 = [3,14,'something', 'bye bye']\n",
    "l3 = l1 + l2\n",
    "print(l1)\n",
    "print(l2)\n",
    "print(l3)"
   ]
  },
  {
   "cell_type": "code",
   "execution_count": 5,
   "metadata": {},
   "outputs": [
    {
     "name": "stdout",
     "output_type": "stream",
     "text": [
      "(1, 2, 3)\n",
      "(4, 5, 6)\n",
      "(1, 2, 3, 4, 5, 6)\n"
     ]
    }
   ],
   "source": [
    "t1 = (1,2,3)\n",
    "t2 = (4,5,6)\n",
    "t3 = t1+t2\n",
    "print(t1)\n",
    "print(t2)\n",
    "print(t3)\n",
    "        "
   ]
  },
  {
   "cell_type": "code",
   "execution_count": 10,
   "metadata": {},
   "outputs": [
    {
     "name": "stdout",
     "output_type": "stream",
     "text": [
      "{'one': 'ek', 'hi': 'hello'}\n",
      "{'two': 'do', 'bye': 'bye bye'}\n"
     ]
    }
   ],
   "source": [
    "d1 = { 'one' : 'ek', 'hi' : 'hello'}\n",
    "d2 = {'two' : 'do', 'bye' : 'bye bye'}\n",
    "# d3 = d1 + d2 this operation in not permitted in python\n",
    "print(d1)\n",
    "print(d2)\n",
    "#print(d3) \n"
   ]
  },
  {
   "cell_type": "code",
   "execution_count": 12,
   "metadata": {},
   "outputs": [
    {
     "name": "stdout",
     "output_type": "stream",
     "text": [
      "{1, 2, 3}\n",
      "{4, 5, 6}\n"
     ]
    }
   ],
   "source": [
    "s1 = {1,2,3,}\n",
    "s2 = {4,5,6}\n",
    "print(s1)\n",
    "print(s2)\n",
    "#s3 = s1 + s2 not permitted\n",
    "#print(s3) \n"
   ]
  },
  {
   "cell_type": "code",
   "execution_count": 13,
   "metadata": {},
   "outputs": [
    {
     "name": "stdout",
     "output_type": "stream",
     "text": [
      "3\n",
      "7\n",
      "-4\n"
     ]
    }
   ],
   "source": [
    "#Subtraction Operator\n",
    "x = 3\n",
    "y = 7\n",
    "print(x)\n",
    "print(y)\n",
    "z= x - y\n",
    "print(z)\n"
   ]
  },
  {
   "cell_type": "code",
   "execution_count": 14,
   "metadata": {},
   "outputs": [
    {
     "name": "stdout",
     "output_type": "stream",
     "text": [
      "(10.65+6.2j)\n"
     ]
    }
   ],
   "source": [
    "x = 3\n",
    "y = 3.15\n",
    "z = 4.5+6.2j\n",
    "print(x+y+z)"
   ]
  },
  {
   "cell_type": "code",
   "execution_count": 16,
   "metadata": {},
   "outputs": [
    {
     "name": "stdout",
     "output_type": "stream",
     "text": [
      "(7.536+10.799999999999999j)\n"
     ]
    }
   ],
   "source": [
    "s1 = 'hello'\n",
    "s2 = 'world'\n",
    "#s3 = s1-s2 not possible\n",
    "\n",
    "\n",
    "#multiplication\n",
    "x = 1\n",
    "y = 2.4\n",
    "z = 3.14+4.5j\n",
    "r=x*y*z\n",
    "print(r)"
   ]
  },
  {
   "cell_type": "code",
   "execution_count": 17,
   "metadata": {},
   "outputs": [
    {
     "name": "stdout",
     "output_type": "stream",
     "text": [
      "3.142857142857143\n"
     ]
    }
   ],
   "source": [
    "#absolute division\n",
    "x = 22 \n",
    "y = 7\n",
    "z = x/y\n",
    "print(z)"
   ]
  },
  {
   "cell_type": "code",
   "execution_count": 18,
   "metadata": {},
   "outputs": [
    {
     "name": "stdout",
     "output_type": "stream",
     "text": [
      "3\n"
     ]
    }
   ],
   "source": [
    "print(round(z))"
   ]
  },
  {
   "cell_type": "code",
   "execution_count": 19,
   "metadata": {},
   "outputs": [
    {
     "name": "stdout",
     "output_type": "stream",
     "text": [
      "4\n"
     ]
    }
   ],
   "source": [
    "x = 3.7\n",
    "print(round(x))"
   ]
  },
  {
   "cell_type": "code",
   "execution_count": 22,
   "metadata": {},
   "outputs": [
    {
     "name": "stdout",
     "output_type": "stream",
     "text": [
      "1.8571428571428572\n",
      "1.857143\n",
      "1.86\n"
     ]
    }
   ],
   "source": [
    "x = 13\n",
    "y = 7\n",
    "r = x/y\n",
    "print(r)\n",
    "print(\"%f\"%(r))\n",
    "print(\"%.2f\"%(r))"
   ]
  },
  {
   "cell_type": "code",
   "execution_count": 27,
   "metadata": {},
   "outputs": [
    {
     "name": "stdout",
     "output_type": "stream",
     "text": [
      "x =  28\n",
      "y =  7\n",
      "r =  4.0\n",
      "x = 28\n",
      "y = 7\n",
      "r = 4.0\n",
      "x = 28, y = 7 , x/y =4.0\n"
     ]
    }
   ],
   "source": [
    "x = 28\n",
    "y = 7\n",
    "print(\"x = \",x)\n",
    "print(\"y = \",y)\n",
    "print(\"r = \",x/y)\n",
    "print(\"x = {}\".format(x))\n",
    "print(\"y = {}\".format(y))\n",
    "print(\"r = {:.3}\".format(x/y))\n",
    "print(\"x = {0}, y = {1} , x/y ={2}\".format(x,y,x/y))"
   ]
  },
  {
   "cell_type": "code",
   "execution_count": 28,
   "metadata": {},
   "outputs": [
    {
     "name": "stdout",
     "output_type": "stream",
     "text": [
      "5 + 5 = 10\n"
     ]
    }
   ],
   "source": [
    "x = 5\n",
    "y = x+ x\n",
    "print(\"{1} + {1} = {0}\".format(y,x))"
   ]
  },
  {
   "cell_type": "code",
   "execution_count": 29,
   "metadata": {},
   "outputs": [
    {
     "data": {
      "text/plain": [
       "0.75"
      ]
     },
     "execution_count": 29,
     "metadata": {},
     "output_type": "execute_result"
    }
   ],
   "source": [
    "3/4"
   ]
  },
  {
   "cell_type": "code",
   "execution_count": 30,
   "metadata": {},
   "outputs": [
    {
     "name": "stdout",
     "output_type": "stream",
     "text": [
      "5\n"
     ]
    }
   ],
   "source": [
    "#modulus operator\n",
    "x = 26 % 7\n",
    "print(x)\n"
   ]
  },
  {
   "cell_type": "code",
   "execution_count": 31,
   "metadata": {},
   "outputs": [
    {
     "data": {
      "text/plain": [
       "3"
      ]
     },
     "execution_count": 31,
     "metadata": {},
     "output_type": "execute_result"
    }
   ],
   "source": [
    "23//7"
   ]
  },
  {
   "cell_type": "code",
   "execution_count": 32,
   "metadata": {},
   "outputs": [
    {
     "name": "stdout",
     "output_type": "stream",
     "text": [
      "3\n"
     ]
    }
   ],
   "source": [
    "#floor division (quotient on remainder)\n",
    "#floor division is used to provide integer division\n",
    "x= 10 //3\n",
    "print(x)"
   ]
  },
  {
   "cell_type": "code",
   "execution_count": 33,
   "metadata": {},
   "outputs": [
    {
     "name": "stdout",
     "output_type": "stream",
     "text": [
      "16\n"
     ]
    }
   ],
   "source": [
    "#exponent **\n",
    "# x ** y -> x to the power y\n",
    "x = 2 ** 4\n",
    "print(x\n",
    "     )"
   ]
  },
  {
   "cell_type": "code",
   "execution_count": 35,
   "metadata": {},
   "outputs": [
    {
     "name": "stdout",
     "output_type": "stream",
     "text": [
      "26\n"
     ]
    }
   ],
   "source": [
    "x = 5 * 6 - 23 % 3 * 2\n",
    "print(x)"
   ]
  },
  {
   "cell_type": "code",
   "execution_count": 36,
   "metadata": {},
   "outputs": [
    {
     "name": "stdout",
     "output_type": "stream",
     "text": [
      "10\n"
     ]
    }
   ],
   "source": [
    "x = 7 ---- 3\n",
    "print(x)"
   ]
  },
  {
   "cell_type": "code",
   "execution_count": 37,
   "metadata": {},
   "outputs": [
    {
     "name": "stdout",
     "output_type": "stream",
     "text": [
      "hellohellohellohellohello\n"
     ]
    }
   ],
   "source": [
    "s = \"hello\"\n",
    "print(s*5)\n"
   ]
  },
  {
   "cell_type": "code",
   "execution_count": 38,
   "metadata": {},
   "outputs": [
    {
     "name": "stdout",
     "output_type": "stream",
     "text": [
      "[1, 2, 3, 1, 2, 3, 1, 2, 3, 1, 2, 3, 1, 2, 3]\n"
     ]
    }
   ],
   "source": [
    "i =[1,2,3]\n",
    "print(i*5)"
   ]
  },
  {
   "cell_type": "code",
   "execution_count": 39,
   "metadata": {},
   "outputs": [
    {
     "name": "stdout",
     "output_type": "stream",
     "text": [
      "******************************\n"
     ]
    }
   ],
   "source": [
    "print(\"*\"*30)"
   ]
  },
  {
   "cell_type": "code",
   "execution_count": 40,
   "metadata": {},
   "outputs": [
    {
     "name": "stdout",
     "output_type": "stream",
     "text": [
      "****************************************************************************************************\n"
     ]
    }
   ],
   "source": [
    "print(\"*\"*100)"
   ]
  },
  {
   "cell_type": "code",
   "execution_count": 41,
   "metadata": {},
   "outputs": [
    {
     "name": "stdout",
     "output_type": "stream",
     "text": [
      "\n"
     ]
    }
   ],
   "source": [
    "print()\n"
   ]
  },
  {
   "cell_type": "code",
   "execution_count": 42,
   "metadata": {},
   "outputs": [
    {
     "name": "stdout",
     "output_type": "stream",
     "text": [
      "                   hello world                    \n",
      "\n",
      "**************************************************\n",
      "**************************************************\n"
     ]
    }
   ],
   "source": [
    "print(\"hello world\".center(50))\n",
    "print()\n",
    "print(\"*\"*50)\n",
    "print(\"*\"*50)"
   ]
  },
  {
   "cell_type": "code",
   "execution_count": 43,
   "metadata": {},
   "outputs": [
    {
     "name": "stdout",
     "output_type": "stream",
     "text": [
      "[]\n"
     ]
    }
   ],
   "source": [
    "i = []\n",
    "s = [] *5\n",
    "print(s)"
   ]
  },
  {
   "cell_type": "code",
   "execution_count": 44,
   "metadata": {},
   "outputs": [
    {
     "name": "stdout",
     "output_type": "stream",
     "text": [
      "\n"
     ]
    }
   ],
   "source": [
    "x ='' *5\n",
    "print(x)"
   ]
  },
  {
   "cell_type": "code",
   "execution_count": 46,
   "metadata": {},
   "outputs": [
    {
     "name": "stdout",
     "output_type": "stream",
     "text": [
      "[[1, 1, 1, 1, 1]]\n"
     ]
    }
   ],
   "source": [
    "i=[1]\n",
    "l=[[1]*5]\n",
    "print(l)"
   ]
  },
  {
   "cell_type": "code",
   "execution_count": 50,
   "metadata": {},
   "outputs": [
    {
     "name": "stdout",
     "output_type": "stream",
     "text": [
      "[[], [], [], [], []]\n"
     ]
    }
   ],
   "source": [
    "k = [[]] *5\n",
    "print(k)"
   ]
  },
  {
   "cell_type": "markdown",
   "metadata": {},
   "source": [
    "<h1 style = 'color:#123456'> Comparison Operators <h1>"
   ]
  },
  {
   "cell_type": "code",
   "execution_count": 53,
   "metadata": {},
   "outputs": [
    {
     "name": "stdout",
     "output_type": "stream",
     "text": [
      "True\n",
      "False\n",
      "\n",
      "False\n",
      "False\n",
      "True\n"
     ]
    }
   ],
   "source": [
    "#numbers\n",
    "\n",
    "print(4<5)\n",
    "print(5<4)\n",
    "print()\n",
    "print(4<4)\n",
    "print(5>5)\n",
    "\n",
    "print(5==5)\n"
   ]
  },
  {
   "cell_type": "markdown",
   "metadata": {},
   "source": [
    "<h1> logical operator </h1>"
   ]
  },
  {
   "cell_type": "code",
   "execution_count": 61,
   "metadata": {},
   "outputs": [
    {
     "name": "stdout",
     "output_type": "stream",
     "text": [
      "57\n",
      "57\n",
      "None\n",
      "None\n"
     ]
    }
   ],
   "source": [
    "# and , or , not (unary operator)\n",
    "#they dont manipulate values just check logic\n",
    "\n",
    "#op1 and op2\n",
    "# false -> None, 0 , false   ,  everything else is true\n",
    "print(45 and 57)\n",
    "#57 is output meaning true as only none 0 and false mean false else everything is true\n",
    "print(90 and 57)\n",
    "print(None and 'hello')\n",
    "print(None and 0)"
   ]
  },
  {
   "cell_type": "code",
   "execution_count": 62,
   "metadata": {},
   "outputs": [
    {
     "name": "stdout",
     "output_type": "stream",
     "text": [
      "0\n"
     ]
    }
   ],
   "source": [
    "print ((3-4+1) and 4>5)"
   ]
  },
  {
   "cell_type": "code",
   "execution_count": 63,
   "metadata": {},
   "outputs": [
    {
     "name": "stdout",
     "output_type": "stream",
     "text": [
      "-1\n"
     ]
    }
   ],
   "source": [
    "print((3-4-1) and 8-9)"
   ]
  },
  {
   "cell_type": "code",
   "execution_count": 71,
   "metadata": {},
   "outputs": [
    {
     "name": "stdout",
     "output_type": "stream",
     "text": [
      "\top1\top2\tand\tor\n",
      "\n",
      "\tTrue\tFalse\tFalse\tTrue\n",
      "\tTrue\tTrue\tTrue\tTrue\n",
      "\tFalse\tTrue\tFalse\tTrue\n",
      "\tFalse\tFalse\tFalse\tFalse\n"
     ]
    }
   ],
   "source": [
    "#Truth table for and operator\n",
    "print(\"\\top1\\top2\\tand\\tor\")\n",
    "x = True\n",
    "y = False\n",
    "print()\n",
    "print(\"\\t{}\\t{}\\t{}\\t{}\".format(x,y,x and y,x or y)) #use of left spacing\n",
    "print(\"\\t{}\\t{}\\t{}\\t{}\".format(x,x,x and x,x or x))\n",
    "print(\"\\t{}\\t{}\\t{}\\t{}\".format(y,x,y and x,y or x))\n",
    "print(\"\\t{}\\t{}\\t{}\\t{}\".format(y,y,y and y,y or y))\n"
   ]
  },
  {
   "cell_type": "code",
   "execution_count": 70,
   "metadata": {},
   "outputs": [
    {
     "name": "stdout",
     "output_type": "stream",
     "text": [
      "True\n"
     ]
    }
   ],
   "source": [
    "\n",
    "#assignment o/p\n",
    "x = 10\n",
    "y = 1\n",
    "z = 3\n",
    "r = (x+5**y /z*3 -x*z ) and (5<6 or 7>=6)\n",
    "print(r)"
   ]
  },
  {
   "cell_type": "markdown",
   "metadata": {},
   "source": [
    "<h1 style= 'color:#123456' > Memebership operator </h1>\n"
   ]
  },
  {
   "cell_type": "code",
   "execution_count": 74,
   "metadata": {},
   "outputs": [
    {
     "name": "stdout",
     "output_type": "stream",
     "text": [
      "True\n",
      "False\n"
     ]
    }
   ],
   "source": [
    "#in or not in\n",
    "#only used with sequence (string, list, tuple, dictionary, set other iterative)\n",
    "s = \"Hello World\"\n",
    "k = 'ell'\n",
    "x =k in s\n",
    "print(x)\n",
    "y = \"hello\" in s\n",
    "print(y)\n"
   ]
  },
  {
   "cell_type": "code",
   "execution_count": 77,
   "metadata": {},
   "outputs": [
    {
     "name": "stdout",
     "output_type": "stream",
     "text": [
      "False\n",
      "False\n",
      "True\n"
     ]
    }
   ],
   "source": [
    "list1 = [1,2,3,4,5,'hello', 'hi']\n",
    "list2 = [1,2,3]\n",
    "print(list1 in list2)\n",
    "print(list2 in list1) #list2 is considered as single element while searching\n",
    "list3 = [1,2,3,4,5,'hello', 'hi',[1,2,3]]\n",
    "print(list2 in list3)"
   ]
  },
  {
   "cell_type": "code",
   "execution_count": 78,
   "metadata": {},
   "outputs": [
    {
     "name": "stdout",
     "output_type": "stream",
     "text": [
      "True\n",
      "False\n"
     ]
    }
   ],
   "source": [
    "d = {'one' : 1, 'two': 2, 'three':3}\n",
    "x = 'one' in d\n",
    "y = 1 in d\n",
    "print(x)\n",
    "print(y)"
   ]
  },
  {
   "cell_type": "code",
   "execution_count": 79,
   "metadata": {},
   "outputs": [
    {
     "name": "stdout",
     "output_type": "stream",
     "text": [
      "True\n",
      "False\n",
      "True\n"
     ]
    }
   ],
   "source": [
    "s = {'hello', 'hi', 'java', 'python', 1}\n",
    "x = 1 in s\n",
    "y = 10 in s\n",
    "z = 'hi' in s\n",
    "print(x)\n",
    "print(y)\n",
    "print(z)"
   ]
  },
  {
   "cell_type": "code",
   "execution_count": 80,
   "metadata": {},
   "outputs": [
    {
     "name": "stdout",
     "output_type": "stream",
     "text": [
      "False\n"
     ]
    }
   ],
   "source": [
    "p = 1 not in s #not in is negative of in\n",
    "print(p)"
   ]
  },
  {
   "cell_type": "markdown",
   "metadata": {},
   "source": [
    "#Identity Operator"
   ]
  },
  {
   "cell_type": "code",
   "execution_count": 94,
   "metadata": {},
   "outputs": [
    {
     "name": "stdout",
     "output_type": "stream",
     "text": [
      "False\n",
      "False\n",
      "False\n",
      "False\n",
      "2246255351664\n",
      "2246255351472\n",
      "1597989152\n"
     ]
    }
   ],
   "source": [
    "#is , is not\n",
    "x = 5\n",
    "y = 5\n",
    "num1 = 1234455\n",
    "num2 = 1234455\n",
    "z = 4\n",
    "l =[1,2,3,4,'hello',5]\n",
    "p = x is y \n",
    "q = z is x\n",
    "r = 5 is x\n",
    "t = x is l[-1]\n",
    "print(p)\n",
    "print(q)\n",
    "print(r)\n",
    "print(t)\n",
    "print(id(x))\n",
    "print(id(y))\n",
    "print(id(num1)) #id is now different for num1 and num2  as the numbers are big \n",
    "print(id(num2)) #in case of big numbers memory allocation becomes complicated so they are allocated diff id\n",
    "print(id(l[-1]))"
   ]
  },
  {
   "cell_type": "code",
   "execution_count": 100,
   "metadata": {},
   "outputs": [
    {
     "name": "stdout",
     "output_type": "stream",
     "text": [
      "0 1 2 3 4 5 6 7 8 9 10 11 12 13 14 15 16 17 18 19 20 21 22 23 24 25 26 27 28 29 30 31 32 33 34 35 36 37 38 39 40 41 42 43 44 45 46 47 48 49 50 51 52 53 54 55 56 57 58 59 60 61 62 63 64 65 66 67 68 69 70 71 72 73 74 75 76 77 78 79 80 81 82 83 84 85 86 87 88 89 90 91 92 93 94 95 96 97 98 99\n",
      "\n",
      "0 1 2 3 4 5 6 7 8 9 10 11 12 13 14 15 16 17 18 19 20 21 22 23 24 25 26 27 28 29 30 31 32 33 34 35 36 37 38 39 40 41 42 43 44 45 46 47 48 49 50 51 52 53 54 55 56 57 58 59 60 61 62 63 64 65 66 67 68 69 70 71 72 73 74 75 76 77 78 79 80 81 82 83 84 85 86 87 88 89 90 91 92 93 94 95 96 97 98 99\n",
      "\n",
      "<map object at 0x0000020AFF4582B0>\n",
      "\n",
      "\n",
      "\n",
      "0 1 2 3 4 5 6 7 8 9 10 11 12 13 14 15 16 17 18 19 20 21 22 23 24 25 26 27 28 29 30 31 32 33 34 35 36 37 38 39 40 41 42 43 44 45 46 47 48 49 50 51 52 53 54 55 56 57 58 59 60 61 62 63 64 65 66 67 68 69 70 71 72 73 74 75 76 77 78 79 80 81 82 83 84 85 86 87 88 89 90 91 92 93 94 95 96 97 98 99\n",
      "\n",
      "Size of list = 888\n",
      "Size of iterator =  32\n"
     ]
    }
   ],
   "source": [
    "#id?\n",
    "l = [var for var in range(100)]\n",
    "x = map(int,l)\n",
    "print(*l)\n",
    "print()\n",
    "print(*x)\n",
    "print()\n",
    "print(x)\n",
    "print()\n",
    "print(*x)\n",
    "print()\n",
    "print(*l)\n",
    "print()\n",
    "print(\"Size of list =\", (l.__sizeof__()))\n",
    "print(\"Size of iterator = \", (x.__sizeof__()))"
   ]
  },
  {
   "cell_type": "code",
   "execution_count": null,
   "metadata": {
    "collapsed": true
   },
   "outputs": [],
   "source": []
  }
 ],
 "metadata": {
  "kernelspec": {
   "display_name": "Python 3",
   "language": "python",
   "name": "python3"
  },
  "language_info": {
   "codemirror_mode": {
    "name": "ipython",
    "version": 3
   },
   "file_extension": ".py",
   "mimetype": "text/x-python",
   "name": "python",
   "nbconvert_exporter": "python",
   "pygments_lexer": "ipython3",
   "version": "3.6.3"
  }
 },
 "nbformat": 4,
 "nbformat_minor": 2
}
